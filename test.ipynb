{
 "cells": [
  {
   "cell_type": "code",
   "execution_count": 1,
   "metadata": {},
   "outputs": [
    {
     "name": "stderr",
     "output_type": "stream",
     "text": [
      "/Users/manan/work/trader AI/.venv/lib/python3.9/site-packages/urllib3/__init__.py:35: NotOpenSSLWarning: urllib3 v2 only supports OpenSSL 1.1.1+, currently the 'ssl' module is compiled with 'LibreSSL 2.8.3'. See: https://github.com/urllib3/urllib3/issues/3020\n",
      "  warnings.warn(\n",
      "/Users/manan/work/trader AI/.venv/lib/python3.9/site-packages/tqdm/auto.py:21: TqdmWarning: IProgress not found. Please update jupyter and ipywidgets. See https://ipywidgets.readthedocs.io/en/stable/user_install.html\n",
      "  from .autonotebook import tqdm as notebook_tqdm\n"
     ]
    },
    {
     "name": "stdout",
     "output_type": "stream",
     "text": [
      "Index(['date', 'open', 'high', 'low', 'close', 'shares_traded',\n",
      "       'turnover_inr_cr'],\n",
      "      dtype='object')\n",
      "Epoch 1/10\n"
     ]
    },
    {
     "name": "stderr",
     "output_type": "stream",
     "text": [
      "/Users/manan/work/trader AI/.venv/lib/python3.9/site-packages/keras/src/layers/rnn/rnn.py:204: UserWarning: Do not pass an `input_shape`/`input_dim` argument to a layer. When using Sequential models, prefer using an `Input(shape)` object as the first layer in the model instead.\n",
      "  super().__init__(**kwargs)\n"
     ]
    },
    {
     "name": "stdout",
     "output_type": "stream",
     "text": [
      "\u001b[1m24/24\u001b[0m \u001b[32m━━━━━━━━━━━━━━━━━━━━\u001b[0m\u001b[37m\u001b[0m \u001b[1m1s\u001b[0m 11ms/step - loss: 0.0880\n",
      "Epoch 2/10\n",
      "\u001b[1m24/24\u001b[0m \u001b[32m━━━━━━━━━━━━━━━━━━━━\u001b[0m\u001b[37m\u001b[0m \u001b[1m0s\u001b[0m 11ms/step - loss: 0.0034\n",
      "Epoch 3/10\n",
      "\u001b[1m24/24\u001b[0m \u001b[32m━━━━━━━━━━━━━━━━━━━━\u001b[0m\u001b[37m\u001b[0m \u001b[1m0s\u001b[0m 11ms/step - loss: 0.0012\n",
      "Epoch 4/10\n",
      "\u001b[1m24/24\u001b[0m \u001b[32m━━━━━━━━━━━━━━━━━━━━\u001b[0m\u001b[37m\u001b[0m \u001b[1m0s\u001b[0m 11ms/step - loss: 7.2612e-04\n",
      "Epoch 5/10\n",
      "\u001b[1m24/24\u001b[0m \u001b[32m━━━━━━━━━━━━━━━━━━━━\u001b[0m\u001b[37m\u001b[0m \u001b[1m0s\u001b[0m 11ms/step - loss: 6.1573e-04\n",
      "Epoch 6/10\n",
      "\u001b[1m24/24\u001b[0m \u001b[32m━━━━━━━━━━━━━━━━━━━━\u001b[0m\u001b[37m\u001b[0m \u001b[1m0s\u001b[0m 11ms/step - loss: 5.6726e-04\n",
      "Epoch 7/10\n",
      "\u001b[1m24/24\u001b[0m \u001b[32m━━━━━━━━━━━━━━━━━━━━\u001b[0m\u001b[37m\u001b[0m \u001b[1m0s\u001b[0m 11ms/step - loss: 5.9815e-04\n",
      "Epoch 8/10\n",
      "\u001b[1m24/24\u001b[0m \u001b[32m━━━━━━━━━━━━━━━━━━━━\u001b[0m\u001b[37m\u001b[0m \u001b[1m0s\u001b[0m 11ms/step - loss: 4.1000e-04\n",
      "Epoch 9/10\n",
      "\u001b[1m24/24\u001b[0m \u001b[32m━━━━━━━━━━━━━━━━━━━━\u001b[0m\u001b[37m\u001b[0m \u001b[1m0s\u001b[0m 11ms/step - loss: 3.9501e-04\n",
      "Epoch 10/10\n",
      "\u001b[1m24/24\u001b[0m \u001b[32m━━━━━━━━━━━━━━━━━━━━\u001b[0m\u001b[37m\u001b[0m \u001b[1m0s\u001b[0m 11ms/step - loss: 4.3878e-04\n"
     ]
    },
    {
     "name": "stderr",
     "output_type": "stream",
     "text": [
      "22:35:23 - cmdstanpy - INFO - Chain [1] start processing\n",
      "22:35:24 - cmdstanpy - INFO - Chain [1] done processing\n"
     ]
    },
    {
     "name": "stdout",
     "output_type": "stream",
     "text": [
      "\u001b[1m1/1\u001b[0m \u001b[32m━━━━━━━━━━━━━━━━━━━━\u001b[0m\u001b[37m\u001b[0m \u001b[1m0s\u001b[0m 89ms/step\n",
      "23797.791974779317 .>>>>\n",
      "\u001b[1m1/1\u001b[0m \u001b[32m━━━━━━━━━━━━━━━━━━━━\u001b[0m\u001b[37m\u001b[0m \u001b[1m0s\u001b[0m 21ms/step\n",
      "23534.384106750647 .>>>>\n",
      "\u001b[1m1/1\u001b[0m \u001b[32m━━━━━━━━━━━━━━━━━━━━\u001b[0m\u001b[37m\u001b[0m \u001b[1m0s\u001b[0m 19ms/step\n",
      "22908.88995037711 .>>>>\n",
      "\u001b[1m1/1\u001b[0m \u001b[32m━━━━━━━━━━━━━━━━━━━━\u001b[0m\u001b[37m\u001b[0m \u001b[1m0s\u001b[0m 17ms/step\n",
      "22548.328673315293 .>>>>\n",
      "\u001b[1m1/1\u001b[0m \u001b[32m━━━━━━━━━━━━━━━━━━━━\u001b[0m\u001b[37m\u001b[0m \u001b[1m0s\u001b[0m 17ms/step\n",
      "22213.554022034878 .>>>>\n",
      "\u001b[1m1/1\u001b[0m \u001b[32m━━━━━━━━━━━━━━━━━━━━\u001b[0m\u001b[37m\u001b[0m \u001b[1m0s\u001b[0m 17ms/step\n",
      "21970.27730908658 .>>>>\n",
      "\u001b[1m1/1\u001b[0m \u001b[32m━━━━━━━━━━━━━━━━━━━━\u001b[0m\u001b[37m\u001b[0m \u001b[1m0s\u001b[0m 13ms/step\n",
      "21784.546267262434 .>>>>\n",
      "\u001b[1m1/1\u001b[0m \u001b[32m━━━━━━━━━━━━━━━━━━━━\u001b[0m\u001b[37m\u001b[0m \u001b[1m0s\u001b[0m 17ms/step\n",
      "21631.207851571435 .>>>>\n",
      "\u001b[1m1/1\u001b[0m \u001b[32m━━━━━━━━━━━━━━━━━━━━\u001b[0m\u001b[37m\u001b[0m \u001b[1m0s\u001b[0m 20ms/step\n",
      "21567.653832078584 .>>>>\n",
      "\u001b[1m1/1\u001b[0m \u001b[32m━━━━━━━━━━━━━━━━━━━━\u001b[0m\u001b[37m\u001b[0m \u001b[1m0s\u001b[0m 13ms/step\n",
      "21351.122532109206 .>>>>\n",
      "[\n",
      "    {\n",
      "        \"action\": \"SELL\",\n",
      "        \"price\": 24998.45,\n",
      "        \"confidence\": 0.24802929882535452,\n",
      "        \"stop_loss\": 26248.3725,\n",
      "        \"order_limit\": 23321.83613528373,\n",
      "        \"max_risk\": 1249.9225000000006,\n",
      "        \"max_reward\": 1676.6138647162697\n",
      "    },\n",
      "    {\n",
      "        \"action\": \"SELL\",\n",
      "        \"price\": 24998.45,\n",
      "        \"confidence\": 0.25856626683851813,\n",
      "        \"stop_loss\": 26298.369400000003,\n",
      "        \"order_limit\": 23016.627656402132,\n",
      "        \"max_risk\": 1299.9194000000025,\n",
      "        \"max_reward\": 1981.822343597869\n",
      "    },\n",
      "    {\n",
      "        \"action\": \"SELL\",\n",
      "        \"price\": 24998.45,\n",
      "        \"confidence\": 0.28358758441514936,\n",
      "        \"stop_loss\": 26348.3663,\n",
      "        \"order_limit\": 22359.07659156806,\n",
      "        \"max_risk\": 1349.9163000000008,\n",
      "        \"max_reward\": 2639.3734084319403\n",
      "    },\n",
      "    {\n",
      "        \"action\": \"SELL\",\n",
      "        \"price\": 24998.45,\n",
      "        \"confidence\": 0.2980109297450325,\n",
      "        \"stop_loss\": 26398.363200000003,\n",
      "        \"order_limit\": 21962.072127809093,\n",
      "        \"max_risk\": 1399.9132000000027,\n",
      "        \"max_reward\": 3036.3778721909075\n",
      "    },\n",
      "    {\n",
      "        \"action\": \"SELL\",\n",
      "        \"price\": 24998.45,\n",
      "        \"confidence\": 0.3114027460888624,\n",
      "        \"stop_loss\": 26448.3601,\n",
      "        \"order_limit\": 21591.5745094179,\n",
      "        \"max_risk\": 1449.910100000001,\n",
      "        \"max_reward\": 3406.8754905821006\n",
      "    },\n",
      "    {\n",
      "        \"action\": \"SELL\",\n",
      "        \"price\": 24998.45,\n",
      "        \"confidence\": 0.32113441797045095,\n",
      "        \"stop_loss\": 26498.357000000004,\n",
      "        \"order_limit\": 21311.168989813985,\n",
      "        \"max_risk\": 1499.9070000000029,\n",
      "        \"max_reward\": 3687.281010186016\n",
      "    },\n",
      "    {\n",
      "        \"action\": \"SELL\",\n",
      "        \"price\": 24998.45,\n",
      "        \"confidence\": 0.3285641202849603,\n",
      "        \"stop_loss\": 26548.353900000002,\n",
      "        \"order_limit\": 21087.440786710034,\n",
      "        \"max_risk\": 1549.9039000000012,\n",
      "        \"max_reward\": 3911.0092132899663\n",
      "    },\n",
      "    {\n",
      "        \"action\": \"SELL\",\n",
      "        \"price\": 24998.45,\n",
      "        \"confidence\": 0.33469803721545,\n",
      "        \"stop_loss\": 26598.350800000004,\n",
      "        \"order_limit\": 20895.746784618004,\n",
      "        \"max_risk\": 1599.900800000003,\n",
      "        \"max_reward\": 4102.703215381996\n",
      "    },\n",
      "    {\n",
      "        \"action\": \"SELL\",\n",
      "        \"price\": 24998.45,\n",
      "        \"confidence\": 0.33724035561890503,\n",
      "        \"stop_loss\": 26648.347700000002,\n",
      "        \"order_limit\": 20791.218294123755,\n",
      "        \"max_risk\": 1649.8977000000014,\n",
      "        \"max_reward\": 4207.2317058762455\n",
      "    },\n",
      "    {\n",
      "        \"action\": \"SELL\",\n",
      "        \"price\": 24998.45,\n",
      "        \"confidence\": 0.3459021446486,\n",
      "        \"stop_loss\": 26698.344600000004,\n",
      "        \"order_limit\": 20539.779875889057,\n",
      "        \"max_risk\": 1699.8946000000033,\n",
      "        \"max_reward\": 4458.670124110944\n",
      "    }\n",
      "]\n",
      "Index(['date', 'open', 'high', 'low', 'close', 'shares_traded',\n",
      "       'turnover_inr_cr'],\n",
      "      dtype='object')\n",
      "Epoch 1/10\n"
     ]
    },
    {
     "name": "stderr",
     "output_type": "stream",
     "text": [
      "/Users/manan/work/trader AI/.venv/lib/python3.9/site-packages/keras/src/layers/rnn/rnn.py:204: UserWarning: Do not pass an `input_shape`/`input_dim` argument to a layer. When using Sequential models, prefer using an `Input(shape)` object as the first layer in the model instead.\n",
      "  super().__init__(**kwargs)\n"
     ]
    },
    {
     "name": "stdout",
     "output_type": "stream",
     "text": [
      "\u001b[1m24/24\u001b[0m \u001b[32m━━━━━━━━━━━━━━━━━━━━\u001b[0m\u001b[37m\u001b[0m \u001b[1m1s\u001b[0m 12ms/step - loss: 0.0081\n",
      "Epoch 2/10\n",
      "\u001b[1m24/24\u001b[0m \u001b[32m━━━━━━━━━━━━━━━━━━━━\u001b[0m\u001b[37m\u001b[0m \u001b[1m0s\u001b[0m 12ms/step - loss: 9.3471e-04\n",
      "Epoch 3/10\n",
      "\u001b[1m24/24\u001b[0m \u001b[32m━━━━━━━━━━━━━━━━━━━━\u001b[0m\u001b[37m\u001b[0m \u001b[1m0s\u001b[0m 11ms/step - loss: 5.2626e-04\n",
      "Epoch 4/10\n",
      "\u001b[1m24/24\u001b[0m \u001b[32m━━━━━━━━━━━━━━━━━━━━\u001b[0m\u001b[37m\u001b[0m \u001b[1m0s\u001b[0m 11ms/step - loss: 4.4312e-04\n",
      "Epoch 5/10\n",
      "\u001b[1m24/24\u001b[0m \u001b[32m━━━━━━━━━━━━━━━━━━━━\u001b[0m\u001b[37m\u001b[0m \u001b[1m0s\u001b[0m 11ms/step - loss: 3.6414e-04\n",
      "Epoch 6/10\n",
      "\u001b[1m24/24\u001b[0m \u001b[32m━━━━━━━━━━━━━━━━━━━━\u001b[0m\u001b[37m\u001b[0m \u001b[1m0s\u001b[0m 12ms/step - loss: 3.5103e-04\n",
      "Epoch 7/10\n",
      "\u001b[1m24/24\u001b[0m \u001b[32m━━━━━━━━━━━━━━━━━━━━\u001b[0m\u001b[37m\u001b[0m \u001b[1m0s\u001b[0m 11ms/step - loss: 3.3029e-04\n",
      "Epoch 8/10\n",
      "\u001b[1m24/24\u001b[0m \u001b[32m━━━━━━━━━━━━━━━━━━━━\u001b[0m\u001b[37m\u001b[0m \u001b[1m0s\u001b[0m 12ms/step - loss: 4.8224e-04\n",
      "Epoch 9/10\n",
      "\u001b[1m24/24\u001b[0m \u001b[32m━━━━━━━━━━━━━━━━━━━━\u001b[0m\u001b[37m\u001b[0m \u001b[1m0s\u001b[0m 11ms/step - loss: 3.2816e-04\n",
      "Epoch 10/10\n",
      "\u001b[1m24/24\u001b[0m \u001b[32m━━━━━━━━━━━━━━━━━━━━\u001b[0m\u001b[37m\u001b[0m \u001b[1m0s\u001b[0m 11ms/step - loss: 2.9192e-04\n"
     ]
    },
    {
     "name": "stderr",
     "output_type": "stream",
     "text": [
      "22:35:43 - cmdstanpy - INFO - Chain [1] start processing\n",
      "22:35:43 - cmdstanpy - INFO - Chain [1] done processing\n"
     ]
    },
    {
     "name": "stdout",
     "output_type": "stream",
     "text": [
      "\u001b[1m1/1\u001b[0m \u001b[32m━━━━━━━━━━━━━━━━━━━━\u001b[0m\u001b[37m\u001b[0m \u001b[1m0s\u001b[0m 87ms/step\n",
      "23738.405933606966 .>>>>\n",
      "\u001b[1m1/1\u001b[0m \u001b[32m━━━━━━━━━━━━━━━━━━━━\u001b[0m\u001b[37m\u001b[0m \u001b[1m0s\u001b[0m 20ms/step\n",
      "23574.183664670945 .>>>>\n",
      "\u001b[1m1/1\u001b[0m \u001b[32m━━━━━━━━━━━━━━━━━━━━\u001b[0m\u001b[37m\u001b[0m \u001b[1m0s\u001b[0m 18ms/step\n",
      "23234.07815507885 .>>>>\n",
      "\u001b[1m1/1\u001b[0m \u001b[32m━━━━━━━━━━━━━━━━━━━━\u001b[0m\u001b[37m\u001b[0m \u001b[1m0s\u001b[0m 18ms/step\n",
      "23169.212721953038 .>>>>\n",
      "\u001b[1m1/1\u001b[0m \u001b[32m━━━━━━━━━━━━━━━━━━━━\u001b[0m\u001b[37m\u001b[0m \u001b[1m0s\u001b[0m 21ms/step\n",
      "23032.810716619962 .>>>>\n",
      "\u001b[1m1/1\u001b[0m \u001b[32m━━━━━━━━━━━━━━━━━━━━\u001b[0m\u001b[37m\u001b[0m \u001b[1m0s\u001b[0m 15ms/step\n",
      "22909.32400751527 .>>>>\n",
      "\u001b[1m1/1\u001b[0m \u001b[32m━━━━━━━━━━━━━━━━━━━━\u001b[0m\u001b[37m\u001b[0m \u001b[1m0s\u001b[0m 13ms/step\n",
      "22792.67003648861 .>>>>\n",
      "\u001b[1m1/1\u001b[0m \u001b[32m━━━━━━━━━━━━━━━━━━━━\u001b[0m\u001b[37m\u001b[0m \u001b[1m0s\u001b[0m 16ms/step\n",
      "22676.894386347227 .>>>>\n",
      "\u001b[1m1/1\u001b[0m \u001b[32m━━━━━━━━━━━━━━━━━━━━\u001b[0m\u001b[37m\u001b[0m \u001b[1m0s\u001b[0m 15ms/step\n",
      "22631.235284924613 .>>>>\n",
      "\u001b[1m1/1\u001b[0m \u001b[32m━━━━━━━━━━━━━━━━━━━━\u001b[0m\u001b[37m\u001b[0m \u001b[1m0s\u001b[0m 21ms/step\n",
      "22420.20953448741 .>>>>\n",
      "[\n",
      "    {\n",
      "        \"action\": \"SELL\",\n",
      "        \"price\": 24998.45,\n",
      "        \"confidence\": 0.2504048877587624,\n",
      "        \"stop_loss\": 26248.3725,\n",
      "        \"order_limit\": 23263.637814934827,\n",
      "        \"max_risk\": 1249.9225000000006,\n",
      "        \"max_reward\": 1734.8121850651733\n",
      "    },\n",
      "    {\n",
      "        \"action\": \"SELL\",\n",
      "        \"price\": 24998.45,\n",
      "        \"confidence\": 0.2569741858126826,\n",
      "        \"stop_loss\": 26298.369400000003,\n",
      "        \"order_limit\": 23055.551624048185,\n",
      "        \"max_risk\": 1299.9194000000025,\n",
      "        \"max_reward\": 1942.898375951816\n",
      "    },\n",
      "    {\n",
      "        \"action\": \"SELL\",\n",
      "        \"price\": 24998.45,\n",
      "        \"confidence\": 0.2705792497103281,\n",
      "        \"stop_loss\": 26348.3663,\n",
      "        \"order_limit\": 22676.460279356957,\n",
      "        \"max_risk\": 1349.9163000000008,\n",
      "        \"max_reward\": 2321.9897206430433\n",
      "    },\n",
      "    {\n",
      "        \"action\": \"SELL\",\n",
      "        \"price\": 24998.45,\n",
      "        \"confidence\": 0.27317402791160905,\n",
      "        \"stop_loss\": 26398.363200000003,\n",
      "        \"order_limit\": 22566.813191182257,\n",
      "        \"max_risk\": 1399.9132000000027,\n",
      "        \"max_reward\": 2431.636808817744\n",
      "    },\n",
      "    {\n",
      "        \"action\": \"SELL\",\n",
      "        \"price\": 24998.45,\n",
      "        \"confidence\": 0.27863044642287976,\n",
      "        \"stop_loss\": 26448.3601,\n",
      "        \"order_limit\": 22387.892016554604,\n",
      "        \"max_risk\": 1449.910100000001,\n",
      "        \"max_reward\": 2610.5579834453965\n",
      "    },\n",
      "    {\n",
      "        \"action\": \"SELL\",\n",
      "        \"price\": 24998.45,\n",
      "        \"confidence\": 0.28357022105309443,\n",
      "        \"stop_loss\": 26498.357000000004,\n",
      "        \"order_limit\": 22222.044287289813,\n",
      "        \"max_risk\": 1499.9070000000029,\n",
      "        \"max_reward\": 2776.405712710188\n",
      "    },\n",
      "    {\n",
      "        \"action\": \"SELL\",\n",
      "        \"price\": 24998.45,\n",
      "        \"confidence\": 0.2882366692139469,\n",
      "        \"stop_loss\": 26548.353900000002,\n",
      "        \"order_limit\": 22063.304595320973,\n",
      "        \"max_risk\": 1549.9039000000012,\n",
      "        \"max_reward\": 2935.1454046790277\n",
      "    },\n",
      "    {\n",
      "        \"action\": \"SELL\",\n",
      "        \"price\": 24998.45,\n",
      "        \"confidence\": 0.29286798236101735,\n",
      "        \"stop_loss\": 26598.350800000004,\n",
      "        \"order_limit\": 21905.87997721142,\n",
      "        \"max_risk\": 1599.900800000003,\n",
      "        \"max_reward\": 3092.570022788579\n",
      "    },\n",
      "    {\n",
      "        \"action\": \"SELL\",\n",
      "        \"price\": 24998.45,\n",
      "        \"confidence\": 0.2946944596595144,\n",
      "        \"stop_loss\": 26648.347700000002,\n",
      "        \"order_limit\": 21816.510814667326,\n",
      "        \"max_risk\": 1649.8977000000014,\n",
      "        \"max_reward\": 3181.9391853326742\n",
      "    },\n",
      "    {\n",
      "        \"action\": \"SELL\",\n",
      "        \"price\": 24998.45,\n",
      "        \"confidence\": 0.3031360130533129,\n",
      "        \"stop_loss\": 26698.344600000004,\n",
      "        \"order_limit\": 21568.24157217689,\n",
      "        \"max_risk\": 1699.8946000000033,\n",
      "        \"max_reward\": 3430.2084278231123\n",
      "    }\n",
      "]\n"
     ]
    }
   ],
   "source": [
    "\n",
    "from main import get_trade_suggestion\n",
    "\n",
    "suggestions = get_trade_suggestion()\n",
    "import json\n",
    "print(json.dumps([suggestion.__dict__ for suggestion in suggestions], indent=4))\n"
   ]
  },
  {
   "cell_type": "code",
   "execution_count": 4,
   "metadata": {},
   "outputs": [
    {
     "data": {
      "text/plain": [
       "[DetailedTradeSuggestion(action='SELL', price=24998.45, confidence=0.2504048877587624, stop_loss=26248.3725, order_limit=23263.637814934827, max_risk=1249.9225000000006, max_reward=1734.8121850651733),\n",
       " DetailedTradeSuggestion(action='SELL', price=24998.45, confidence=0.2569741858126826, stop_loss=26298.369400000003, order_limit=23055.551624048185, max_risk=1299.9194000000025, max_reward=1942.898375951816),\n",
       " DetailedTradeSuggestion(action='SELL', price=24998.45, confidence=0.2705792497103281, stop_loss=26348.3663, order_limit=22676.460279356957, max_risk=1349.9163000000008, max_reward=2321.9897206430433),\n",
       " DetailedTradeSuggestion(action='SELL', price=24998.45, confidence=0.27317402791160905, stop_loss=26398.363200000003, order_limit=22566.813191182257, max_risk=1399.9132000000027, max_reward=2431.636808817744),\n",
       " DetailedTradeSuggestion(action='SELL', price=24998.45, confidence=0.27863044642287976, stop_loss=26448.3601, order_limit=22387.892016554604, max_risk=1449.910100000001, max_reward=2610.5579834453965),\n",
       " DetailedTradeSuggestion(action='SELL', price=24998.45, confidence=0.28357022105309443, stop_loss=26498.357000000004, order_limit=22222.044287289813, max_risk=1499.9070000000029, max_reward=2776.405712710188),\n",
       " DetailedTradeSuggestion(action='SELL', price=24998.45, confidence=0.2882366692139469, stop_loss=26548.353900000002, order_limit=22063.304595320973, max_risk=1549.9039000000012, max_reward=2935.1454046790277),\n",
       " DetailedTradeSuggestion(action='SELL', price=24998.45, confidence=0.29286798236101735, stop_loss=26598.350800000004, order_limit=21905.87997721142, max_risk=1599.900800000003, max_reward=3092.570022788579),\n",
       " DetailedTradeSuggestion(action='SELL', price=24998.45, confidence=0.2946944596595144, stop_loss=26648.347700000002, order_limit=21816.510814667326, max_risk=1649.8977000000014, max_reward=3181.9391853326742),\n",
       " DetailedTradeSuggestion(action='SELL', price=24998.45, confidence=0.3031360130533129, stop_loss=26698.344600000004, order_limit=21568.24157217689, max_risk=1699.8946000000033, max_reward=3430.2084278231123)]"
      ]
     },
     "execution_count": 4,
     "metadata": {},
     "output_type": "execute_result"
    }
   ],
   "source": [
    "suggestions"
   ]
  },
  {
   "cell_type": "code",
   "execution_count": 9,
   "metadata": {},
   "outputs": [
    {
     "name": "stdout",
     "output_type": "stream",
     "text": [
      "Index(['date', 'open', 'high', 'low', 'close', 'shares_traded',\n",
      "       'turnover_inr_cr'],\n",
      "      dtype='object')\n"
     ]
    },
    {
     "data": {
      "application/vnd.plotly.v1+json": {
       "config": {
        "plotlyServerURL": "https://plot.ly"
       },
       "data": [
        {
         "close": [
          24297.5,
          24117,
          24367.5,
          24347,
          24139,
          24143.75,
          24541.15,
          24572.65,
          24698.85,
          24770.2,
          24811.5,
          24823.15,
          25010.6,
          25017.75,
          25052.35,
          25151.95,
          25235.9,
          25278.7,
          25279.85,
          25198.7,
          25145.1,
          24852.15,
          24936.4,
          25041.1,
          24918.45,
          25388.9,
          25356.5,
          25383.75,
          25418.55,
          25377.55,
          25415.8,
          25790.95,
          25939.05,
          25940.4,
          26004.15,
          26216.05,
          26178.95,
          25810.85,
          25796.9,
          25250.1,
          25014.6,
          24795.75,
          25013.15,
          24981.95,
          24998.45
         ],
         "high": [
          24337.7,
          24340.5,
          24419.75,
          24472.8,
          24359.95,
          24196.5,
          24563.9,
          24638.8,
          24734.3,
          24787.95,
          24867.35,
          24858.4,
          25043.8,
          25073.1,
          25129.6,
          25192.9,
          25268.35,
          25333.65,
          25321.7,
          25216,
          25275.45,
          25168.75,
          24957.5,
          25130.5,
          25113.7,
          25433.35,
          25430.5,
          25445.7,
          25441.65,
          25482.2,
          25611.95,
          25849.25,
          25956,
          26011.55,
          26032.8,
          26250.9,
          26277.35,
          26134.7,
          25907.6,
          25639.45,
          25485.05,
          25143,
          25044,
          25234.05,
          25134.05
         ],
         "low": [
          24184.9,
          24079.7,
          24311.2,
          24212.1,
          24116.5,
          24099.7,
          24204.5,
          24522.95,
          24607.2,
          24654.5,
          24784.45,
          24771.65,
          24874.7,
          24973.65,
          24964.65,
          24998.5,
          25199.4,
          25235.5,
          25235.8,
          25083.8,
          25127.75,
          24801.3,
          24753.15,
          24896.8,
          24885.15,
          24941.45,
          25292.45,
          25336.2,
          25352.25,
          25285.55,
          25376.05,
          25426.6,
          25847.35,
          25886.85,
          25871.35,
          25998.4,
          26151.4,
          25794.1,
          25739.2,
          25230.3,
          24966.8,
          24694.35,
          24756.8,
          24947.7,
          24979.4
         ],
         "name": "Actual Prices",
         "open": [
          24289.4,
          24248.55,
          24386.85,
          24320.05,
          24342.35,
          24184.4,
          24334.85,
          24636.35,
          24648.9,
          24680.55,
          24863.4,
          24845.4,
          24906.1,
          25024.8,
          25030.8,
          25035.3,
          25249.7,
          25333.6,
          25313.4,
          25089.95,
          25250.5,
          25093.7,
          24823.4,
          24999.4,
          25034,
          25059.65,
          25430.45,
          25406.65,
          25416.9,
          25402.4,
          25487.05,
          25525.95,
          25872.55,
          25921.45,
          25899.45,
          26005.4,
          26248.25,
          26061.3,
          25788.45,
          25452.85,
          25181.9,
          25084.1,
          24832.2,
          25065.8,
          25067.05
         ],
         "type": "candlestick",
         "x": [
          "2024-08-07T00:00:00",
          "2024-08-08T00:00:00",
          "2024-08-09T00:00:00",
          "2024-08-12T00:00:00",
          "2024-08-13T00:00:00",
          "2024-08-14T00:00:00",
          "2024-08-16T00:00:00",
          "2024-08-19T00:00:00",
          "2024-08-20T00:00:00",
          "2024-08-21T00:00:00",
          "2024-08-22T00:00:00",
          "2024-08-23T00:00:00",
          "2024-08-26T00:00:00",
          "2024-08-27T00:00:00",
          "2024-08-28T00:00:00",
          "2024-08-29T00:00:00",
          "2024-08-30T00:00:00",
          "2024-09-02T00:00:00",
          "2024-09-03T00:00:00",
          "2024-09-04T00:00:00",
          "2024-09-05T00:00:00",
          "2024-09-06T00:00:00",
          "2024-09-09T00:00:00",
          "2024-09-10T00:00:00",
          "2024-09-11T00:00:00",
          "2024-09-12T00:00:00",
          "2024-09-13T00:00:00",
          "2024-09-16T00:00:00",
          "2024-09-17T00:00:00",
          "2024-09-18T00:00:00",
          "2024-09-19T00:00:00",
          "2024-09-20T00:00:00",
          "2024-09-23T00:00:00",
          "2024-09-24T00:00:00",
          "2024-09-25T00:00:00",
          "2024-09-26T00:00:00",
          "2024-09-27T00:00:00",
          "2024-09-30T00:00:00",
          "2024-10-01T00:00:00",
          "2024-10-03T00:00:00",
          "2024-10-04T00:00:00",
          "2024-10-07T00:00:00",
          "2024-10-08T00:00:00",
          "2024-10-09T00:00:00",
          "2024-10-10T00:00:00"
         ]
        },
        {
         "close": [
          24998.45,
          24998.45,
          24998.45,
          24998.45,
          24998.45,
          24998.45,
          24998.45,
          24998.45,
          24998.45,
          24998.45
         ],
         "high": [
          25498.419,
          25498.419,
          25498.419,
          25498.419,
          25498.419,
          25498.419,
          25498.419,
          25498.419,
          25498.419,
          25498.419
         ],
         "low": [
          24498.481,
          24498.481,
          24498.481,
          24498.481,
          24498.481,
          24498.481,
          24498.481,
          24498.481,
          24498.481,
          24498.481
         ],
         "name": "Forecasted Prices",
         "open": [
          24998.45,
          24998.45,
          24998.45,
          24998.45,
          24998.45,
          24998.45,
          24998.45,
          24998.45,
          24998.45,
          24998.45
         ],
         "type": "candlestick",
         "x": [
          "2024-10-10T00:00:00",
          "2024-10-11T00:00:00",
          "2024-10-12T00:00:00",
          "2024-10-13T00:00:00",
          "2024-10-14T00:00:00",
          "2024-10-15T00:00:00",
          "2024-10-16T00:00:00",
          "2024-10-17T00:00:00",
          "2024-10-18T00:00:00",
          "2024-10-19T00:00:00"
         ]
        }
       ],
       "layout": {
        "legend": {
         "traceorder": "normal",
         "x": 0,
         "y": 1
        },
        "template": {
         "data": {
          "bar": [
           {
            "error_x": {
             "color": "#2a3f5f"
            },
            "error_y": {
             "color": "#2a3f5f"
            },
            "marker": {
             "line": {
              "color": "#E5ECF6",
              "width": 0.5
             },
             "pattern": {
              "fillmode": "overlay",
              "size": 10,
              "solidity": 0.2
             }
            },
            "type": "bar"
           }
          ],
          "barpolar": [
           {
            "marker": {
             "line": {
              "color": "#E5ECF6",
              "width": 0.5
             },
             "pattern": {
              "fillmode": "overlay",
              "size": 10,
              "solidity": 0.2
             }
            },
            "type": "barpolar"
           }
          ],
          "carpet": [
           {
            "aaxis": {
             "endlinecolor": "#2a3f5f",
             "gridcolor": "white",
             "linecolor": "white",
             "minorgridcolor": "white",
             "startlinecolor": "#2a3f5f"
            },
            "baxis": {
             "endlinecolor": "#2a3f5f",
             "gridcolor": "white",
             "linecolor": "white",
             "minorgridcolor": "white",
             "startlinecolor": "#2a3f5f"
            },
            "type": "carpet"
           }
          ],
          "choropleth": [
           {
            "colorbar": {
             "outlinewidth": 0,
             "ticks": ""
            },
            "type": "choropleth"
           }
          ],
          "contour": [
           {
            "colorbar": {
             "outlinewidth": 0,
             "ticks": ""
            },
            "colorscale": [
             [
              0,
              "#0d0887"
             ],
             [
              0.1111111111111111,
              "#46039f"
             ],
             [
              0.2222222222222222,
              "#7201a8"
             ],
             [
              0.3333333333333333,
              "#9c179e"
             ],
             [
              0.4444444444444444,
              "#bd3786"
             ],
             [
              0.5555555555555556,
              "#d8576b"
             ],
             [
              0.6666666666666666,
              "#ed7953"
             ],
             [
              0.7777777777777778,
              "#fb9f3a"
             ],
             [
              0.8888888888888888,
              "#fdca26"
             ],
             [
              1,
              "#f0f921"
             ]
            ],
            "type": "contour"
           }
          ],
          "contourcarpet": [
           {
            "colorbar": {
             "outlinewidth": 0,
             "ticks": ""
            },
            "type": "contourcarpet"
           }
          ],
          "heatmap": [
           {
            "colorbar": {
             "outlinewidth": 0,
             "ticks": ""
            },
            "colorscale": [
             [
              0,
              "#0d0887"
             ],
             [
              0.1111111111111111,
              "#46039f"
             ],
             [
              0.2222222222222222,
              "#7201a8"
             ],
             [
              0.3333333333333333,
              "#9c179e"
             ],
             [
              0.4444444444444444,
              "#bd3786"
             ],
             [
              0.5555555555555556,
              "#d8576b"
             ],
             [
              0.6666666666666666,
              "#ed7953"
             ],
             [
              0.7777777777777778,
              "#fb9f3a"
             ],
             [
              0.8888888888888888,
              "#fdca26"
             ],
             [
              1,
              "#f0f921"
             ]
            ],
            "type": "heatmap"
           }
          ],
          "heatmapgl": [
           {
            "colorbar": {
             "outlinewidth": 0,
             "ticks": ""
            },
            "colorscale": [
             [
              0,
              "#0d0887"
             ],
             [
              0.1111111111111111,
              "#46039f"
             ],
             [
              0.2222222222222222,
              "#7201a8"
             ],
             [
              0.3333333333333333,
              "#9c179e"
             ],
             [
              0.4444444444444444,
              "#bd3786"
             ],
             [
              0.5555555555555556,
              "#d8576b"
             ],
             [
              0.6666666666666666,
              "#ed7953"
             ],
             [
              0.7777777777777778,
              "#fb9f3a"
             ],
             [
              0.8888888888888888,
              "#fdca26"
             ],
             [
              1,
              "#f0f921"
             ]
            ],
            "type": "heatmapgl"
           }
          ],
          "histogram": [
           {
            "marker": {
             "pattern": {
              "fillmode": "overlay",
              "size": 10,
              "solidity": 0.2
             }
            },
            "type": "histogram"
           }
          ],
          "histogram2d": [
           {
            "colorbar": {
             "outlinewidth": 0,
             "ticks": ""
            },
            "colorscale": [
             [
              0,
              "#0d0887"
             ],
             [
              0.1111111111111111,
              "#46039f"
             ],
             [
              0.2222222222222222,
              "#7201a8"
             ],
             [
              0.3333333333333333,
              "#9c179e"
             ],
             [
              0.4444444444444444,
              "#bd3786"
             ],
             [
              0.5555555555555556,
              "#d8576b"
             ],
             [
              0.6666666666666666,
              "#ed7953"
             ],
             [
              0.7777777777777778,
              "#fb9f3a"
             ],
             [
              0.8888888888888888,
              "#fdca26"
             ],
             [
              1,
              "#f0f921"
             ]
            ],
            "type": "histogram2d"
           }
          ],
          "histogram2dcontour": [
           {
            "colorbar": {
             "outlinewidth": 0,
             "ticks": ""
            },
            "colorscale": [
             [
              0,
              "#0d0887"
             ],
             [
              0.1111111111111111,
              "#46039f"
             ],
             [
              0.2222222222222222,
              "#7201a8"
             ],
             [
              0.3333333333333333,
              "#9c179e"
             ],
             [
              0.4444444444444444,
              "#bd3786"
             ],
             [
              0.5555555555555556,
              "#d8576b"
             ],
             [
              0.6666666666666666,
              "#ed7953"
             ],
             [
              0.7777777777777778,
              "#fb9f3a"
             ],
             [
              0.8888888888888888,
              "#fdca26"
             ],
             [
              1,
              "#f0f921"
             ]
            ],
            "type": "histogram2dcontour"
           }
          ],
          "mesh3d": [
           {
            "colorbar": {
             "outlinewidth": 0,
             "ticks": ""
            },
            "type": "mesh3d"
           }
          ],
          "parcoords": [
           {
            "line": {
             "colorbar": {
              "outlinewidth": 0,
              "ticks": ""
             }
            },
            "type": "parcoords"
           }
          ],
          "pie": [
           {
            "automargin": true,
            "type": "pie"
           }
          ],
          "scatter": [
           {
            "fillpattern": {
             "fillmode": "overlay",
             "size": 10,
             "solidity": 0.2
            },
            "type": "scatter"
           }
          ],
          "scatter3d": [
           {
            "line": {
             "colorbar": {
              "outlinewidth": 0,
              "ticks": ""
             }
            },
            "marker": {
             "colorbar": {
              "outlinewidth": 0,
              "ticks": ""
             }
            },
            "type": "scatter3d"
           }
          ],
          "scattercarpet": [
           {
            "marker": {
             "colorbar": {
              "outlinewidth": 0,
              "ticks": ""
             }
            },
            "type": "scattercarpet"
           }
          ],
          "scattergeo": [
           {
            "marker": {
             "colorbar": {
              "outlinewidth": 0,
              "ticks": ""
             }
            },
            "type": "scattergeo"
           }
          ],
          "scattergl": [
           {
            "marker": {
             "colorbar": {
              "outlinewidth": 0,
              "ticks": ""
             }
            },
            "type": "scattergl"
           }
          ],
          "scattermapbox": [
           {
            "marker": {
             "colorbar": {
              "outlinewidth": 0,
              "ticks": ""
             }
            },
            "type": "scattermapbox"
           }
          ],
          "scatterpolar": [
           {
            "marker": {
             "colorbar": {
              "outlinewidth": 0,
              "ticks": ""
             }
            },
            "type": "scatterpolar"
           }
          ],
          "scatterpolargl": [
           {
            "marker": {
             "colorbar": {
              "outlinewidth": 0,
              "ticks": ""
             }
            },
            "type": "scatterpolargl"
           }
          ],
          "scatterternary": [
           {
            "marker": {
             "colorbar": {
              "outlinewidth": 0,
              "ticks": ""
             }
            },
            "type": "scatterternary"
           }
          ],
          "surface": [
           {
            "colorbar": {
             "outlinewidth": 0,
             "ticks": ""
            },
            "colorscale": [
             [
              0,
              "#0d0887"
             ],
             [
              0.1111111111111111,
              "#46039f"
             ],
             [
              0.2222222222222222,
              "#7201a8"
             ],
             [
              0.3333333333333333,
              "#9c179e"
             ],
             [
              0.4444444444444444,
              "#bd3786"
             ],
             [
              0.5555555555555556,
              "#d8576b"
             ],
             [
              0.6666666666666666,
              "#ed7953"
             ],
             [
              0.7777777777777778,
              "#fb9f3a"
             ],
             [
              0.8888888888888888,
              "#fdca26"
             ],
             [
              1,
              "#f0f921"
             ]
            ],
            "type": "surface"
           }
          ],
          "table": [
           {
            "cells": {
             "fill": {
              "color": "#EBF0F8"
             },
             "line": {
              "color": "white"
             }
            },
            "header": {
             "fill": {
              "color": "#C8D4E3"
             },
             "line": {
              "color": "white"
             }
            },
            "type": "table"
           }
          ]
         },
         "layout": {
          "annotationdefaults": {
           "arrowcolor": "#2a3f5f",
           "arrowhead": 0,
           "arrowwidth": 1
          },
          "autotypenumbers": "strict",
          "coloraxis": {
           "colorbar": {
            "outlinewidth": 0,
            "ticks": ""
           }
          },
          "colorscale": {
           "diverging": [
            [
             0,
             "#8e0152"
            ],
            [
             0.1,
             "#c51b7d"
            ],
            [
             0.2,
             "#de77ae"
            ],
            [
             0.3,
             "#f1b6da"
            ],
            [
             0.4,
             "#fde0ef"
            ],
            [
             0.5,
             "#f7f7f7"
            ],
            [
             0.6,
             "#e6f5d0"
            ],
            [
             0.7,
             "#b8e186"
            ],
            [
             0.8,
             "#7fbc41"
            ],
            [
             0.9,
             "#4d9221"
            ],
            [
             1,
             "#276419"
            ]
           ],
           "sequential": [
            [
             0,
             "#0d0887"
            ],
            [
             0.1111111111111111,
             "#46039f"
            ],
            [
             0.2222222222222222,
             "#7201a8"
            ],
            [
             0.3333333333333333,
             "#9c179e"
            ],
            [
             0.4444444444444444,
             "#bd3786"
            ],
            [
             0.5555555555555556,
             "#d8576b"
            ],
            [
             0.6666666666666666,
             "#ed7953"
            ],
            [
             0.7777777777777778,
             "#fb9f3a"
            ],
            [
             0.8888888888888888,
             "#fdca26"
            ],
            [
             1,
             "#f0f921"
            ]
           ],
           "sequentialminus": [
            [
             0,
             "#0d0887"
            ],
            [
             0.1111111111111111,
             "#46039f"
            ],
            [
             0.2222222222222222,
             "#7201a8"
            ],
            [
             0.3333333333333333,
             "#9c179e"
            ],
            [
             0.4444444444444444,
             "#bd3786"
            ],
            [
             0.5555555555555556,
             "#d8576b"
            ],
            [
             0.6666666666666666,
             "#ed7953"
            ],
            [
             0.7777777777777778,
             "#fb9f3a"
            ],
            [
             0.8888888888888888,
             "#fdca26"
            ],
            [
             1,
             "#f0f921"
            ]
           ]
          },
          "colorway": [
           "#636efa",
           "#EF553B",
           "#00cc96",
           "#ab63fa",
           "#FFA15A",
           "#19d3f3",
           "#FF6692",
           "#B6E880",
           "#FF97FF",
           "#FECB52"
          ],
          "font": {
           "color": "#2a3f5f"
          },
          "geo": {
           "bgcolor": "white",
           "lakecolor": "white",
           "landcolor": "#E5ECF6",
           "showlakes": true,
           "showland": true,
           "subunitcolor": "white"
          },
          "hoverlabel": {
           "align": "left"
          },
          "hovermode": "closest",
          "mapbox": {
           "style": "light"
          },
          "paper_bgcolor": "white",
          "plot_bgcolor": "#E5ECF6",
          "polar": {
           "angularaxis": {
            "gridcolor": "white",
            "linecolor": "white",
            "ticks": ""
           },
           "bgcolor": "#E5ECF6",
           "radialaxis": {
            "gridcolor": "white",
            "linecolor": "white",
            "ticks": ""
           }
          },
          "scene": {
           "xaxis": {
            "backgroundcolor": "#E5ECF6",
            "gridcolor": "white",
            "gridwidth": 2,
            "linecolor": "white",
            "showbackground": true,
            "ticks": "",
            "zerolinecolor": "white"
           },
           "yaxis": {
            "backgroundcolor": "#E5ECF6",
            "gridcolor": "white",
            "gridwidth": 2,
            "linecolor": "white",
            "showbackground": true,
            "ticks": "",
            "zerolinecolor": "white"
           },
           "zaxis": {
            "backgroundcolor": "#E5ECF6",
            "gridcolor": "white",
            "gridwidth": 2,
            "linecolor": "white",
            "showbackground": true,
            "ticks": "",
            "zerolinecolor": "white"
           }
          },
          "shapedefaults": {
           "line": {
            "color": "#2a3f5f"
           }
          },
          "ternary": {
           "aaxis": {
            "gridcolor": "white",
            "linecolor": "white",
            "ticks": ""
           },
           "baxis": {
            "gridcolor": "white",
            "linecolor": "white",
            "ticks": ""
           },
           "bgcolor": "#E5ECF6",
           "caxis": {
            "gridcolor": "white",
            "linecolor": "white",
            "ticks": ""
           }
          },
          "title": {
           "x": 0.05
          },
          "xaxis": {
           "automargin": true,
           "gridcolor": "white",
           "linecolor": "white",
           "ticks": "",
           "title": {
            "standoff": 15
           },
           "zerolinecolor": "white",
           "zerolinewidth": 2
          },
          "yaxis": {
           "automargin": true,
           "gridcolor": "white",
           "linecolor": "white",
           "ticks": "",
           "title": {
            "standoff": 15
           },
           "zerolinecolor": "white",
           "zerolinewidth": 2
          }
         }
        },
        "title": {
         "text": "Stock Prices and Forecasted Suggestions"
        },
        "xaxis": {
         "rangeslider": {
          "visible": false
         },
         "title": {
          "text": "Date"
         }
        },
        "yaxis": {
         "title": {
          "text": "Price"
         }
        }
       }
      }
     },
     "metadata": {},
     "output_type": "display_data"
    }
   ],
   "source": [
    "import matplotlib.pyplot as plt\n",
    "import pandas as pd\n",
    "import plotly.graph_objects as go\n",
    "from data_loader import load_stock_data\n",
    "from ai_model import generate_trade_suggestions\n",
    "\n",
    "# Load stock data\n",
    "stock_data = load_stock_data()\n",
    "\n",
    "# Generate trade suggestions\n",
    "\n",
    "# Create a DataFrame for suggestions with open, high, low, close prices\n",
    "suggestion_df = pd.DataFrame({\n",
    "    'date': pd.date_range(start=stock_data['date'].iloc[-1], periods=len(suggestions), freq='D'),\n",
    "    'open': [s.price for s in suggestions],\n",
    "    'high': [s.price * 1.02 for s in suggestions],  # Example: 2% higher than price\n",
    "    'low': [s.price * 0.98 for s in suggestions],   # Example: 2% lower than price\n",
    "    'close': [s.price for s in suggestions]\n",
    "})\n",
    "\n",
    "# Select the last 12 actual stock data points\n",
    "last_12_actual = stock_data.tail(45)\n",
    "\n",
    "# Plot actual stock data as candlestick\n",
    "fig = go.Figure(data=[go.Candlestick(x=last_12_actual['date'],\n",
    "                                     open=last_12_actual['open'],\n",
    "                                     high=last_12_actual['high'],\n",
    "                                     low=last_12_actual['low'],\n",
    "                                     close=last_12_actual['close'],\n",
    "                                     name='Actual Prices')])\n",
    "\n",
    "# Plot suggestions as candlestick\n",
    "fig.add_trace(go.Candlestick(x=suggestion_df['date'],\n",
    "                             open=suggestion_df['open'],\n",
    "                             high=suggestion_df['high'],\n",
    "                             low=suggestion_df['low'],\n",
    "                             close=suggestion_df['close'],\n",
    "                             name='Forecasted Prices'))\n",
    "\n",
    "# Customize the plot\n",
    "fig.update_layout(title='Stock Prices and Forecasted Suggestions',\n",
    "                  xaxis_title='Date',\n",
    "                  yaxis_title='Price',\n",
    "                  legend=dict(x=0, y=1, traceorder='normal'),\n",
    "                  xaxis_rangeslider_visible=False)\n",
    "\n",
    "fig.show()"
   ]
  },
  {
   "cell_type": "code",
   "execution_count": null,
   "metadata": {},
   "outputs": [],
   "source": []
  }
 ],
 "metadata": {
  "kernelspec": {
   "display_name": "Python 3",
   "language": "python",
   "name": "python3"
  },
  "language_info": {
   "codemirror_mode": {
    "name": "ipython",
    "version": 3
   },
   "file_extension": ".py",
   "mimetype": "text/x-python",
   "name": "python",
   "nbconvert_exporter": "python",
   "pygments_lexer": "ipython3",
   "version": "3.9.6"
  }
 },
 "nbformat": 4,
 "nbformat_minor": 2
}
